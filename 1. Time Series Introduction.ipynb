{
 "cells": [
  {
   "cell_type": "markdown",
   "metadata": {},
   "source": [
    "# Time Series\n",
    "> The date of different format can be standardized.    \n",
    "> ```datetime``` and ```dateutil``` are important Python modules that converts **string** into datetime object.  "
   ]
  },
  {
   "cell_type": "code",
   "execution_count": 1,
   "metadata": {},
   "outputs": [
    {
     "name": "stdout",
     "output_type": "stream",
     "text": [
      "<class 'datetime.datetime'>\n",
      "----------------\n",
      "2019-07-04 00:00:00\n",
      "----------------\n",
      "4\n"
     ]
    }
   ],
   "source": [
    "from datetime import datetime\n",
    "d1 = datetime(year=2019, month=7, day=4)\n",
    "\n",
    "print(type(d1))\n",
    "print('----------------')\n",
    "\n",
    "print(d1)\n",
    "print('----------------')\n",
    "\n",
    "print(d1.day)"
   ]
  },
  {
   "cell_type": "code",
   "execution_count": 2,
   "metadata": {},
   "outputs": [
    {
     "name": "stdout",
     "output_type": "stream",
     "text": [
      "<class 'datetime.datetime'>\n",
      "----------------\n",
      "2019-07-04 00:00:00\n",
      "----------------\n",
      "7\n"
     ]
    }
   ],
   "source": [
    "from dateutil import parser\n",
    "d2 = parser.parse(\"4th of July, 2019\")\n",
    "\n",
    "print(type(d2))\n",
    "print('----------------')\n",
    "\n",
    "print(d2)\n",
    "print('----------------')\n",
    "\n",
    "print(d2.month)"
   ]
  },
  {
   "cell_type": "markdown",
   "metadata": {},
   "source": [
    "## More Time Formatting/Current date and time\n",
    "> ```%Y```, ```%m```, ```%d``` etc. are format codes.  \n",
    "> **strftime()** takes one or more format codes as an argument and returns a formatted string based on it.  "
   ]
  },
  {
   "cell_type": "code",
   "execution_count": 3,
   "metadata": {},
   "outputs": [
    {
     "data": {
      "text/plain": [
       "datetime.datetime(2019, 10, 21, 16, 15, 8, 159858)"
      ]
     },
     "execution_count": 3,
     "metadata": {},
     "output_type": "execute_result"
    }
   ],
   "source": [
    "from datetime import datetime\n",
    "now = datetime.now() \n",
    "now"
   ]
  },
  {
   "cell_type": "code",
   "execution_count": 4,
   "metadata": {},
   "outputs": [
    {
     "name": "stdout",
     "output_type": "stream",
     "text": [
      "year: 2019\n",
      "----------------\n",
      "month: 10\n",
      "----------------\n",
      "day: 21\n",
      "----------------\n",
      "time: 16:15:08\n",
      "----------------\n",
      "date and time: 10/21/2019, 16:15:08\n"
     ]
    }
   ],
   "source": [
    "year = now.strftime(\"%Y\")\n",
    "print(\"year:\", year)\n",
    "print('----------------')\n",
    "\n",
    "month = now.strftime(\"%m\")\n",
    "print(\"month:\", month)\n",
    "print('----------------')\n",
    "\n",
    "day = now.strftime(\"%d\")\n",
    "print(\"day:\", day)\n",
    "print('----------------')\n",
    "\n",
    "time = now.strftime(\"%H:%M:%S\")\n",
    "print(\"time:\", time)\n",
    "print('----------------')\n",
    "\n",
    "date_time = now.strftime(\"%m/%d/%Y, %H:%M:%S\")\n",
    "print(\"date and time:\",date_time)"
   ]
  },
  {
   "cell_type": "markdown",
   "metadata": {},
   "source": [
    "## Convert Date into Numpy\n",
    "> ```np.datetime``` is one of ```dtype```.  \n",
    "> **np.datetime64()** is a method itself that converts strings to *np.datetime64 dtype*.  \n",
    "> $+1$, $+2$, ..., $+p$ adds 1 day, 2 days, .... p days to Numpy date.   \n",
    "> **Reference**: https://www.programiz.com/python-programming/datetime/strftime"
   ]
  },
  {
   "cell_type": "code",
   "execution_count": 5,
   "metadata": {},
   "outputs": [
    {
     "data": {
      "text/plain": [
       "array('2019-07-04', dtype='datetime64[D]')"
      ]
     },
     "execution_count": 5,
     "metadata": {},
     "output_type": "execute_result"
    }
   ],
   "source": [
    "import numpy as np\n",
    "date = np.array('2019-07-04', dtype=np.datetime64)\n",
    "date"
   ]
  },
  {
   "cell_type": "code",
   "execution_count": 6,
   "metadata": {},
   "outputs": [
    {
     "data": {
      "text/plain": [
       "array(['2019-07-04', '2019-07-05', '2019-07-06', '2019-07-07',\n",
       "       '2019-07-08', '2019-07-09', '2019-07-10', '2019-07-11',\n",
       "       '2019-07-12', '2019-07-13', '2019-07-14', '2019-07-15'],\n",
       "      dtype='datetime64[D]')"
      ]
     },
     "execution_count": 6,
     "metadata": {},
     "output_type": "execute_result"
    }
   ],
   "source": [
    "date + np.arange(12)"
   ]
  },
  {
   "cell_type": "code",
   "execution_count": 7,
   "metadata": {},
   "outputs": [
    {
     "data": {
      "text/plain": [
       "numpy.datetime64('2019-07-04')"
      ]
     },
     "execution_count": 7,
     "metadata": {},
     "output_type": "execute_result"
    }
   ],
   "source": [
    "np.datetime64('2019-07-04')"
   ]
  },
  {
   "cell_type": "code",
   "execution_count": 8,
   "metadata": {},
   "outputs": [
    {
     "data": {
      "text/plain": [
       "numpy.datetime64('2019-07-04T23:00')"
      ]
     },
     "execution_count": 8,
     "metadata": {},
     "output_type": "execute_result"
    }
   ],
   "source": [
    "np.datetime64('2019-07-04 23:00')"
   ]
  },
  {
   "cell_type": "markdown",
   "metadata": {},
   "source": [
    "## Convert Date to Pandas\n",
    "> **pd.to_datetime** converts strings, list of various formats to **Timestamp**.   \n",
    "> A series of dates can be generated as well using **pd.to_timedelta**.  "
   ]
  },
  {
   "cell_type": "code",
   "execution_count": 9,
   "metadata": {},
   "outputs": [
    {
     "data": {
      "text/html": [
       "<div>\n",
       "<style scoped>\n",
       "    .dataframe tbody tr th:only-of-type {\n",
       "        vertical-align: middle;\n",
       "    }\n",
       "\n",
       "    .dataframe tbody tr th {\n",
       "        vertical-align: top;\n",
       "    }\n",
       "\n",
       "    .dataframe thead th {\n",
       "        text-align: right;\n",
       "    }\n",
       "</style>\n",
       "<table border=\"1\" class=\"dataframe\">\n",
       "  <thead>\n",
       "    <tr style=\"text-align: right;\">\n",
       "      <th></th>\n",
       "      <th>Date</th>\n",
       "      <th>Time</th>\n",
       "    </tr>\n",
       "  </thead>\n",
       "  <tbody>\n",
       "    <tr>\n",
       "      <th>0</th>\n",
       "      <td>8/6/1993</td>\n",
       "      <td>12:42 PM</td>\n",
       "    </tr>\n",
       "    <tr>\n",
       "      <th>1</th>\n",
       "      <td>3/31/1996</td>\n",
       "      <td>6:53 AM</td>\n",
       "    </tr>\n",
       "    <tr>\n",
       "      <th>2</th>\n",
       "      <td>4/23/1993</td>\n",
       "      <td>11:17 AM</td>\n",
       "    </tr>\n",
       "    <tr>\n",
       "      <th>3</th>\n",
       "      <td>3/4/2005</td>\n",
       "      <td>1:00 PM</td>\n",
       "    </tr>\n",
       "    <tr>\n",
       "      <th>4</th>\n",
       "      <td>1/24/1998</td>\n",
       "      <td>4:47 PM</td>\n",
       "    </tr>\n",
       "  </tbody>\n",
       "</table>\n",
       "</div>"
      ],
      "text/plain": [
       "        Date      Time\n",
       "0   8/6/1993  12:42 PM\n",
       "1  3/31/1996   6:53 AM\n",
       "2  4/23/1993  11:17 AM\n",
       "3   3/4/2005   1:00 PM\n",
       "4  1/24/1998   4:47 PM"
      ]
     },
     "execution_count": 9,
     "metadata": {},
     "output_type": "execute_result"
    }
   ],
   "source": [
    "import pandas as pd\n",
    "\n",
    "data = pd.read_csv(\"todatetime.csv\") \n",
    "data.head()"
   ]
  },
  {
   "cell_type": "code",
   "execution_count": 10,
   "metadata": {},
   "outputs": [
    {
     "data": {
      "text/html": [
       "<div>\n",
       "<style scoped>\n",
       "    .dataframe tbody tr th:only-of-type {\n",
       "        vertical-align: middle;\n",
       "    }\n",
       "\n",
       "    .dataframe tbody tr th {\n",
       "        vertical-align: top;\n",
       "    }\n",
       "\n",
       "    .dataframe thead th {\n",
       "        text-align: right;\n",
       "    }\n",
       "</style>\n",
       "<table border=\"1\" class=\"dataframe\">\n",
       "  <thead>\n",
       "    <tr style=\"text-align: right;\">\n",
       "      <th></th>\n",
       "      <th>Date</th>\n",
       "      <th>Time</th>\n",
       "    </tr>\n",
       "  </thead>\n",
       "  <tbody>\n",
       "    <tr>\n",
       "      <th>0</th>\n",
       "      <td>1993-08-06</td>\n",
       "      <td>12:42 PM</td>\n",
       "    </tr>\n",
       "    <tr>\n",
       "      <th>1</th>\n",
       "      <td>1996-03-31</td>\n",
       "      <td>6:53 AM</td>\n",
       "    </tr>\n",
       "    <tr>\n",
       "      <th>2</th>\n",
       "      <td>1993-04-23</td>\n",
       "      <td>11:17 AM</td>\n",
       "    </tr>\n",
       "    <tr>\n",
       "      <th>3</th>\n",
       "      <td>2005-03-04</td>\n",
       "      <td>1:00 PM</td>\n",
       "    </tr>\n",
       "    <tr>\n",
       "      <th>4</th>\n",
       "      <td>1998-01-24</td>\n",
       "      <td>4:47 PM</td>\n",
       "    </tr>\n",
       "  </tbody>\n",
       "</table>\n",
       "</div>"
      ],
      "text/plain": [
       "        Date      Time\n",
       "0 1993-08-06  12:42 PM\n",
       "1 1996-03-31   6:53 AM\n",
       "2 1993-04-23  11:17 AM\n",
       "3 2005-03-04   1:00 PM\n",
       "4 1998-01-24   4:47 PM"
      ]
     },
     "execution_count": 10,
     "metadata": {},
     "output_type": "execute_result"
    }
   ],
   "source": [
    "# Overwriting data with new format \n",
    "data['Date']= pd.to_datetime(data['Date']) \n",
    "data.head()"
   ]
  },
  {
   "cell_type": "code",
   "execution_count": 11,
   "metadata": {},
   "outputs": [
    {
     "name": "stdout",
     "output_type": "stream",
     "text": [
      "<class 'pandas.core.frame.DataFrame'>\n",
      "RangeIndex: 1000 entries, 0 to 999\n",
      "Data columns (total 2 columns):\n",
      "Date    1000 non-null datetime64[ns]\n",
      "Time    1000 non-null object\n",
      "dtypes: datetime64[ns](1), object(1)\n",
      "memory usage: 15.7+ KB\n"
     ]
    }
   ],
   "source": [
    "data.info() "
   ]
  },
  {
   "cell_type": "code",
   "execution_count": 12,
   "metadata": {},
   "outputs": [
    {
     "data": {
      "text/plain": [
       "pandas._libs.tslibs.timestamps.Timestamp"
      ]
     },
     "execution_count": 12,
     "metadata": {},
     "output_type": "execute_result"
    }
   ],
   "source": [
    "date = pd.to_datetime(\"1st of July, 2019\")\n",
    "type(date)"
   ]
  },
  {
   "cell_type": "code",
   "execution_count": 13,
   "metadata": {},
   "outputs": [
    {
     "data": {
      "text/plain": [
       "'Monday'"
      ]
     },
     "execution_count": 13,
     "metadata": {},
     "output_type": "execute_result"
    }
   ],
   "source": [
    "date.strftime('%A')"
   ]
  },
  {
   "cell_type": "code",
   "execution_count": 14,
   "metadata": {},
   "outputs": [
    {
     "data": {
      "text/plain": [
       "DatetimeIndex(['2019-07-01', '2019-07-02', '2019-07-03', '2019-07-04',\n",
       "               '2019-07-05', '2019-07-06', '2019-07-07', '2019-07-08',\n",
       "               '2019-07-09', '2019-07-10', '2019-07-11', '2019-07-12'],\n",
       "              dtype='datetime64[ns]', freq=None)"
      ]
     },
     "execution_count": 14,
     "metadata": {},
     "output_type": "execute_result"
    }
   ],
   "source": [
    "date + pd.to_timedelta(arg=np.arange(12), unit='D')"
   ]
  },
  {
   "cell_type": "code",
   "execution_count": 15,
   "metadata": {},
   "outputs": [
    {
     "name": "stdout",
     "output_type": "stream",
     "text": [
      "DatetimeIndex(['2019-07-03', '2019-07-04', '2019-07-06', '2019-07-07',\n",
      "               '2019-07-08'],\n",
      "              dtype='datetime64[ns]', freq=None)\n",
      "----------------\n",
      "Index(['03', '04', '06', '07', '08'], dtype='object')\n",
      "----------------\n",
      "2019-07-03 00:00:00\n"
     ]
    }
   ],
   "source": [
    "dates = pd.to_datetime([datetime(2019, 7, 3), '4th of July, 2019',\n",
    "                        '2019-Jul-6', '07-07-2019', '20190708'])\n",
    "print( dates )\n",
    "print('----------------')\n",
    "\n",
    "print( dates.strftime('%d') )\n",
    "print('----------------')\n",
    "\n",
    "print( dates[0] )"
   ]
  },
  {
   "cell_type": "code",
   "execution_count": 16,
   "metadata": {},
   "outputs": [
    {
     "name": "stdout",
     "output_type": "stream",
     "text": [
      "PeriodIndex(['2019-07-03', '2019-07-04', '2019-07-06', '2019-07-07',\n",
      "             '2019-07-08'],\n",
      "            dtype='period[D]', freq='D')\n",
      "----------------\n",
      "2019-07-03\n"
     ]
    }
   ],
   "source": [
    "d3 = dates.to_period('D')\n",
    "\n",
    "print( d3 )\n",
    "print('----------------')\n",
    "\n",
    "print( d3[0] )"
   ]
  },
  {
   "cell_type": "code",
   "execution_count": 17,
   "metadata": {},
   "outputs": [
    {
     "data": {
      "text/plain": [
       "TimedeltaIndex(['0 days', '1 days', '3 days', '4 days', '5 days'], dtype='timedelta64[ns]', freq=None)"
      ]
     },
     "execution_count": 17,
     "metadata": {},
     "output_type": "execute_result"
    }
   ],
   "source": [
    "dates - dates[0]"
   ]
  },
  {
   "cell_type": "markdown",
   "metadata": {},
   "source": [
    "## Activity 1\n",
    "> The **year, month, day, hour, minute, and second** are specified.  \n",
    "> Use **datetime()** to do the followings:  \n",
    "> Creare a variable **my_date** that reports **year, month, day**.  \n",
    "> Creare a variable **my_date_time** that reports  **year, month, day, hour, minute, second**.   \n",
    "> Grab the **month** from **my_date**.   \n",
    "> Grab the **hour** from **my_date_time**.   "
   ]
  },
  {
   "cell_type": "code",
   "execution_count": 18,
   "metadata": {},
   "outputs": [],
   "source": [
    "my_year = 2019\n",
    "my_month = 2\n",
    "my_day = 1\n",
    "my_hour = 22\n",
    "my_minute = 30\n",
    "my_second = 15"
   ]
  },
  {
   "cell_type": "code",
   "execution_count": 1,
   "metadata": {},
   "outputs": [
    {
     "name": "stdout",
     "output_type": "stream",
     "text": [
      "2019-02-01 00:00:00\n",
      "2\n",
      "2019-02-01 22:30:15\n",
      "22\n",
      "1\n"
     ]
    }
   ],
   "source": [
    "from datetime import datetime\n",
    "\n",
    "my_year = 2019\n",
    "my_month = 2\n",
    "my_day = 1\n",
    "my_hour = 22\n",
    "my_minute = 30\n",
    "my_second = 15\n",
    "\n",
    "my_date = datetime(my_year,my_month,my_day)\n",
    "print(my_date)\n",
    "print(my_date.month) \n",
    "\n",
    "my_date_time = datetime(my_year,my_month,my_day,my_hour,my_minute,my_second)\n",
    "print(my_date_time)\n",
    "print(my_date_time.hour)\n",
    "print(my_date_time.day)"
   ]
  },
  {
   "cell_type": "markdown",
   "metadata": {},
   "source": [
    "## DatetimeIndex as Pandas Index\n",
    "> Pandas **DatetimeIndex()** convert list of dates into *date time index*.    \n",
    "> Slicing can be based on part of the **Date**.  "
   ]
  },
  {
   "cell_type": "code",
   "execution_count": 19,
   "metadata": {},
   "outputs": [
    {
     "name": "stdout",
     "output_type": "stream",
     "text": [
      "2018-07-04    10.1\n",
      "2018-08-04    10.5\n",
      "2019-07-04    10.2\n",
      "2019-08-04    10.6\n",
      "dtype: float64\n",
      "----------------\n",
      "DatetimeIndex(['2018-07-04', '2018-08-04', '2019-07-04', '2019-08-04'], dtype='datetime64[ns]', freq=None)\n"
     ]
    }
   ],
   "source": [
    "index = pd.DatetimeIndex(['2018-07-04', '2018-08-04',\n",
    "                          '2019-07-04', '2019-08-04'])\n",
    "data  = pd.Series([10.1, 10.5, 10.2, 10.6], index=index)\n",
    "\n",
    "print(data)\n",
    "print('----------------')\n",
    "print(data.index)"
   ]
  },
  {
   "cell_type": "markdown",
   "metadata": {},
   "source": [
    "### Slicing date time index (Explicit Indexing)"
   ]
  },
  {
   "cell_type": "code",
   "execution_count": 20,
   "metadata": {},
   "outputs": [
    {
     "data": {
      "text/plain": [
       "2018-07-04    10.1\n",
       "2018-08-04    10.5\n",
       "2019-07-04    10.2\n",
       "dtype: float64"
      ]
     },
     "execution_count": 20,
     "metadata": {},
     "output_type": "execute_result"
    }
   ],
   "source": [
    "data['2018-07-04':'2019-07-04']"
   ]
  },
  {
   "cell_type": "code",
   "execution_count": 21,
   "metadata": {},
   "outputs": [
    {
     "data": {
      "text/plain": [
       "2019-07-04    10.2\n",
       "2019-08-04    10.6\n",
       "dtype: float64"
      ]
     },
     "execution_count": 21,
     "metadata": {},
     "output_type": "execute_result"
    }
   ],
   "source": [
    "data['2019']"
   ]
  },
  {
   "cell_type": "markdown",
   "metadata": {},
   "source": [
    "### Functions on Date Time Index\n",
    "> **argmax()** and **argmin()** returns the date where the values are the latest, earliest date.  \n",
    "> The max, min values can be called out using **max()** and **min()**.  "
   ]
  },
  {
   "cell_type": "code",
   "execution_count": 22,
   "metadata": {},
   "outputs": [
    {
     "name": "stdout",
     "output_type": "stream",
     "text": [
      "3\n",
      "----------------\n",
      "2019-08-04 00:00:00\n",
      "----------------\n",
      "0\n",
      "----------------\n",
      "2018-07-04 00:00:00\n"
     ]
    }
   ],
   "source": [
    "# Latest Date\n",
    "print(data.index.argmax())\n",
    "print('----------------')\n",
    "\n",
    "print(data.index.max())\n",
    "print('----------------')\n",
    "\n",
    "# Earliest Date\n",
    "print(data.index.argmin())\n",
    "print('----------------')\n",
    "\n",
    "print(data.index.min())"
   ]
  },
  {
   "cell_type": "markdown",
   "metadata": {},
   "source": [
    "## Activity 2\n",
    "> Create a date variable **ind** that lists 10 days from 2019-09-01 using **to_timedelta()**.  \n",
    "> Convert **ind** into date time index and drop the HMS using **to_period** in the same line.  \n",
    "> Generate 2 columns with 10 numbers that are $U(0,20)$ using **rand()**.   \n",
    "> Combine the values using **ind** as index, and columns ```['A','B']```.  \n",
    "> Print a statement: ```'On 2019-09-01, the value is 2019-09-01'```.  "
   ]
  },
  {
   "cell_type": "code",
   "execution_count": 2,
   "metadata": {},
   "outputs": [
    {
     "data": {
      "text/html": [
       "<div>\n",
       "<style scoped>\n",
       "    .dataframe tbody tr th:only-of-type {\n",
       "        vertical-align: middle;\n",
       "    }\n",
       "\n",
       "    .dataframe tbody tr th {\n",
       "        vertical-align: top;\n",
       "    }\n",
       "\n",
       "    .dataframe thead th {\n",
       "        text-align: right;\n",
       "    }\n",
       "</style>\n",
       "<table border=\"1\" class=\"dataframe\">\n",
       "  <thead>\n",
       "    <tr style=\"text-align: right;\">\n",
       "      <th></th>\n",
       "      <th>A</th>\n",
       "      <th>B</th>\n",
       "    </tr>\n",
       "  </thead>\n",
       "  <tbody>\n",
       "    <tr>\n",
       "      <th>2019-09-01</th>\n",
       "      <td>2.528834</td>\n",
       "      <td>0.553407</td>\n",
       "    </tr>\n",
       "    <tr>\n",
       "      <th>2019-09-02</th>\n",
       "      <td>6.215127</td>\n",
       "      <td>9.287794</td>\n",
       "    </tr>\n",
       "    <tr>\n",
       "      <th>2019-09-03</th>\n",
       "      <td>6.058875</td>\n",
       "      <td>8.816503</td>\n",
       "    </tr>\n",
       "    <tr>\n",
       "      <th>2019-09-04</th>\n",
       "      <td>0.523226</td>\n",
       "      <td>0.808427</td>\n",
       "    </tr>\n",
       "    <tr>\n",
       "      <th>2019-09-05</th>\n",
       "      <td>0.441774</td>\n",
       "      <td>5.828309</td>\n",
       "    </tr>\n",
       "    <tr>\n",
       "      <th>2019-09-06</th>\n",
       "      <td>5.717486</td>\n",
       "      <td>5.651766</td>\n",
       "    </tr>\n",
       "    <tr>\n",
       "      <th>2019-09-07</th>\n",
       "      <td>6.132311</td>\n",
       "      <td>9.463576</td>\n",
       "    </tr>\n",
       "    <tr>\n",
       "      <th>2019-09-08</th>\n",
       "      <td>5.966923</td>\n",
       "      <td>7.203906</td>\n",
       "    </tr>\n",
       "    <tr>\n",
       "      <th>2019-09-09</th>\n",
       "      <td>3.583831</td>\n",
       "      <td>8.798685</td>\n",
       "    </tr>\n",
       "    <tr>\n",
       "      <th>2019-09-10</th>\n",
       "      <td>7.625294</td>\n",
       "      <td>7.957557</td>\n",
       "    </tr>\n",
       "  </tbody>\n",
       "</table>\n",
       "</div>"
      ],
      "text/plain": [
       "                   A         B\n",
       "2019-09-01  2.528834  0.553407\n",
       "2019-09-02  6.215127  9.287794\n",
       "2019-09-03  6.058875  8.816503\n",
       "2019-09-04  0.523226  0.808427\n",
       "2019-09-05  0.441774  5.828309\n",
       "2019-09-06  5.717486  5.651766\n",
       "2019-09-07  6.132311  9.463576\n",
       "2019-09-08  5.966923  7.203906\n",
       "2019-09-09  3.583831  8.798685\n",
       "2019-09-10  7.625294  7.957557"
      ]
     },
     "execution_count": 2,
     "metadata": {},
     "output_type": "execute_result"
    }
   ],
   "source": [
    "import numpy as np\n",
    "import pandas as pd\n",
    "from datetime import datetime\n",
    "\n",
    "ind = datetime(2019, 9, 1) + pd.to_timedelta(arg=np.arange(10), unit='D')\n",
    "ind = pd.DatetimeIndex(ind).to_period('D')\n",
    "\n",
    "data = 10*np.random.rand(10,2)\n",
    "cols = ['A','B']\n",
    "\n",
    "df = pd.DataFrame(data=data,index=ind,columns=cols)\n",
    "df"
   ]
  },
  {
   "cell_type": "code",
   "execution_count": 3,
   "metadata": {},
   "outputs": [
    {
     "data": {
      "text/plain": [
       "'On 2019-09-01, the value is 2019-09-01'"
      ]
     },
     "execution_count": 3,
     "metadata": {},
     "output_type": "execute_result"
    }
   ],
   "source": [
    "'On {}, the value is {}'.format(df.index[df.index.argmin()], df.index.min())"
   ]
  },
  {
   "cell_type": "markdown",
   "metadata": {},
   "source": [
    "## Equal Time Intervals\n",
    "> **date_range(start,end)**.   \n",
    "> **date_range(start,periods,freq)** produces number of periods at freq.  \n",
    "> **period_range(start,periods,freq)** is similar.  \n",
    "> **timedelta_range** "
   ]
  },
  {
   "cell_type": "code",
   "execution_count": 23,
   "metadata": {},
   "outputs": [
    {
     "data": {
      "text/plain": [
       "DatetimeIndex(['2019-07-01', '2019-07-02', '2019-07-03', '2019-07-04',\n",
       "               '2019-07-05', '2019-07-06', '2019-07-07', '2019-07-08',\n",
       "               '2019-07-09', '2019-07-10', '2019-07-11', '2019-07-12',\n",
       "               '2019-07-13', '2019-07-14'],\n",
       "              dtype='datetime64[ns]', freq='D')"
      ]
     },
     "execution_count": 23,
     "metadata": {},
     "output_type": "execute_result"
    }
   ],
   "source": [
    "pd.date_range('2019-07-01', '2019-07-14')"
   ]
  },
  {
   "cell_type": "code",
   "execution_count": 24,
   "metadata": {},
   "outputs": [
    {
     "data": {
      "text/plain": [
       "DatetimeIndex(['2019-07-01', '2019-07-02', '2019-07-03', '2019-07-04',\n",
       "               '2019-07-05', '2019-07-06', '2019-07-07', '2019-07-08',\n",
       "               '2019-07-09', '2019-07-10', '2019-07-11', '2019-07-12',\n",
       "               '2019-07-13', '2019-07-14'],\n",
       "              dtype='datetime64[ns]', freq='D')"
      ]
     },
     "execution_count": 24,
     "metadata": {},
     "output_type": "execute_result"
    }
   ],
   "source": [
    "pd.date_range('2019-07-01', periods=14)"
   ]
  },
  {
   "cell_type": "code",
   "execution_count": 25,
   "metadata": {},
   "outputs": [
    {
     "data": {
      "text/plain": [
       "DatetimeIndex(['2019-07-01 00:00:00', '2019-07-01 01:00:00',\n",
       "               '2019-07-01 02:00:00', '2019-07-01 03:00:00',\n",
       "               '2019-07-01 04:00:00', '2019-07-01 05:00:00',\n",
       "               '2019-07-01 06:00:00', '2019-07-01 07:00:00',\n",
       "               '2019-07-01 08:00:00', '2019-07-01 09:00:00',\n",
       "               '2019-07-01 10:00:00', '2019-07-01 11:00:00',\n",
       "               '2019-07-01 12:00:00', '2019-07-01 13:00:00'],\n",
       "              dtype='datetime64[ns]', freq='H')"
      ]
     },
     "execution_count": 25,
     "metadata": {},
     "output_type": "execute_result"
    }
   ],
   "source": [
    "pd.date_range('2019-07-01', periods=14, freq='H')"
   ]
  },
  {
   "cell_type": "code",
   "execution_count": 26,
   "metadata": {},
   "outputs": [
    {
     "data": {
      "text/plain": [
       "PeriodIndex(['2018-09', '2018-10', '2018-11', '2018-12', '2019-01', '2019-02',\n",
       "             '2019-03', '2019-04', '2019-05', '2019-06', '2019-07', '2019-08'],\n",
       "            dtype='period[M]', freq='M')"
      ]
     },
     "execution_count": 26,
     "metadata": {},
     "output_type": "execute_result"
    }
   ],
   "source": [
    "pd.period_range('2018-9', periods=12, freq='M')"
   ]
  },
  {
   "cell_type": "code",
   "execution_count": 27,
   "metadata": {},
   "outputs": [
    {
     "data": {
      "text/plain": [
       "TimedeltaIndex(['00:00:00', '01:00:00', '02:00:00', '03:00:00', '04:00:00',\n",
       "                '05:00:00', '06:00:00', '07:00:00', '08:00:00', '09:00:00',\n",
       "                '10:00:00', '11:00:00'],\n",
       "               dtype='timedelta64[ns]', freq='H')"
      ]
     },
     "execution_count": 27,
     "metadata": {},
     "output_type": "execute_result"
    }
   ],
   "source": [
    "pd.timedelta_range(0, periods=12, freq='H')"
   ]
  },
  {
   "cell_type": "code",
   "execution_count": 28,
   "metadata": {},
   "outputs": [
    {
     "data": {
      "text/plain": [
       "TimedeltaIndex(['00:00:00', '02:30:00', '05:00:00', '07:30:00', '10:00:00',\n",
       "                '12:30:00'],\n",
       "               dtype='timedelta64[ns]', freq='150T')"
      ]
     },
     "execution_count": 28,
     "metadata": {},
     "output_type": "execute_result"
    }
   ],
   "source": [
    "pd.timedelta_range(0, periods=6, freq=\"2H30T\")"
   ]
  },
  {
   "cell_type": "code",
   "execution_count": 29,
   "metadata": {},
   "outputs": [
    {
     "data": {
      "text/plain": [
       "DatetimeIndex(['2019-07-01', '2019-07-02', '2019-07-03', '2019-07-04',\n",
       "               '2019-07-05'],\n",
       "              dtype='datetime64[ns]', freq='B')"
      ]
     },
     "execution_count": 29,
     "metadata": {},
     "output_type": "execute_result"
    }
   ],
   "source": [
    "from pandas.tseries.offsets import BDay\n",
    "pd.date_range('2019-07-01', periods=5, freq=BDay())"
   ]
  }
 ],
 "metadata": {
  "kernelspec": {
   "display_name": "Python 3",
   "language": "python",
   "name": "python3"
  },
  "language_info": {
   "codemirror_mode": {
    "name": "ipython",
    "version": 3
   },
   "file_extension": ".py",
   "mimetype": "text/x-python",
   "name": "python",
   "nbconvert_exporter": "python",
   "pygments_lexer": "ipython3",
   "version": "3.7.10"
  }
 },
 "nbformat": 4,
 "nbformat_minor": 2
}
