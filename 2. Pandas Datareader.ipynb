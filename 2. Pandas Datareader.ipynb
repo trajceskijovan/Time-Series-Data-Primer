{
 "cells": [
  {
   "cell_type": "markdown",
   "metadata": {},
   "source": [
    "# Pandas Datareader\n",
    "\n",
    "> The Python module **pandas_datareader.data** and **pandas_datareader.wb** allows you to remotely access to various data sources and load the data as a **Pandas DataFrame**.  \n",
    "> Note: It may not work in some geographical locations due to the firewall setting.  \n",
    "> For the available data sources, please refer to the reference:\n",
    "https://pandas-datareader.readthedocs.io/en/latest/remote_data.html\n"
   ]
  },
  {
   "cell_type": "markdown",
   "metadata": {},
   "source": [
    "## Download Online Data to Python\n",
    "> Python module is: ```pandas_datareader```.   \n",
    "> Method is: **DataReader**.   \n",
    "> Some Anaconda has already got ```pandas_datareader``` installed.   \n",
    "> But if your PC does not have, then install ```pandas_datareader```.  \n",
    "> Go to Anaconda Prompt and enter: ```pip install pandas_datareader```.  \n",
    "```python\n",
    "data.DataReader('stock code', start, end, data_source)\n",
    "```"
   ]
  },
  {
   "cell_type": "markdown",
   "metadata": {},
   "source": [
    "## Yahoo Finance"
   ]
  },
  {
   "cell_type": "code",
   "execution_count": 2,
   "metadata": {},
   "outputs": [],
   "source": [
    "import pandas_datareader.data as web\n",
    "import datetime\n",
    "\n",
    "start = datetime.datetime(2017, 1, 1)\n",
    "end   = datetime.datetime(2019, 10, 14)\n",
    "\n",
    "hsbc  = web.DataReader(\"0005.HK\", data_source='yahoo', start=start, end=end)"
   ]
  },
  {
   "cell_type": "code",
   "execution_count": 3,
   "metadata": {},
   "outputs": [
    {
     "data": {
      "text/html": [
       "<div>\n",
       "<style scoped>\n",
       "    .dataframe tbody tr th:only-of-type {\n",
       "        vertical-align: middle;\n",
       "    }\n",
       "\n",
       "    .dataframe tbody tr th {\n",
       "        vertical-align: top;\n",
       "    }\n",
       "\n",
       "    .dataframe thead th {\n",
       "        text-align: right;\n",
       "    }\n",
       "</style>\n",
       "<table border=\"1\" class=\"dataframe\">\n",
       "  <thead>\n",
       "    <tr style=\"text-align: right;\">\n",
       "      <th></th>\n",
       "      <th>High</th>\n",
       "      <th>Low</th>\n",
       "      <th>Open</th>\n",
       "      <th>Close</th>\n",
       "      <th>Volume</th>\n",
       "      <th>Adj Close</th>\n",
       "    </tr>\n",
       "    <tr>\n",
       "      <th>Date</th>\n",
       "      <th></th>\n",
       "      <th></th>\n",
       "      <th></th>\n",
       "      <th></th>\n",
       "      <th></th>\n",
       "      <th></th>\n",
       "    </tr>\n",
       "  </thead>\n",
       "  <tbody>\n",
       "    <tr>\n",
       "      <th>2017-01-03</th>\n",
       "      <td>63.150002</td>\n",
       "      <td>62.200001</td>\n",
       "      <td>62.250000</td>\n",
       "      <td>63.000000</td>\n",
       "      <td>11331063.0</td>\n",
       "      <td>53.577045</td>\n",
       "    </tr>\n",
       "    <tr>\n",
       "      <th>2017-01-04</th>\n",
       "      <td>63.450001</td>\n",
       "      <td>62.950001</td>\n",
       "      <td>63.450001</td>\n",
       "      <td>63.450001</td>\n",
       "      <td>13426502.0</td>\n",
       "      <td>53.959736</td>\n",
       "    </tr>\n",
       "    <tr>\n",
       "      <th>2017-01-05</th>\n",
       "      <td>63.950001</td>\n",
       "      <td>63.549999</td>\n",
       "      <td>63.799999</td>\n",
       "      <td>63.900002</td>\n",
       "      <td>12484357.0</td>\n",
       "      <td>54.342434</td>\n",
       "    </tr>\n",
       "    <tr>\n",
       "      <th>2017-01-06</th>\n",
       "      <td>63.900002</td>\n",
       "      <td>63.349998</td>\n",
       "      <td>63.900002</td>\n",
       "      <td>63.750000</td>\n",
       "      <td>14321890.0</td>\n",
       "      <td>54.214867</td>\n",
       "    </tr>\n",
       "    <tr>\n",
       "      <th>2017-01-09</th>\n",
       "      <td>63.849998</td>\n",
       "      <td>63.299999</td>\n",
       "      <td>63.599998</td>\n",
       "      <td>63.700001</td>\n",
       "      <td>10499807.0</td>\n",
       "      <td>54.172340</td>\n",
       "    </tr>\n",
       "  </tbody>\n",
       "</table>\n",
       "</div>"
      ],
      "text/plain": [
       "                 High        Low       Open      Close      Volume  Adj Close\n",
       "Date                                                                         \n",
       "2017-01-03  63.150002  62.200001  62.250000  63.000000  11331063.0  53.577045\n",
       "2017-01-04  63.450001  62.950001  63.450001  63.450001  13426502.0  53.959736\n",
       "2017-01-05  63.950001  63.549999  63.799999  63.900002  12484357.0  54.342434\n",
       "2017-01-06  63.900002  63.349998  63.900002  63.750000  14321890.0  54.214867\n",
       "2017-01-09  63.849998  63.299999  63.599998  63.700001  10499807.0  54.172340"
      ]
     },
     "execution_count": 3,
     "metadata": {},
     "output_type": "execute_result"
    }
   ],
   "source": [
    "hsbc.head()"
   ]
  },
  {
   "cell_type": "code",
   "execution_count": 4,
   "metadata": {},
   "outputs": [
    {
     "data": {
      "text/html": [
       "<div>\n",
       "<style scoped>\n",
       "    .dataframe tbody tr th:only-of-type {\n",
       "        vertical-align: middle;\n",
       "    }\n",
       "\n",
       "    .dataframe tbody tr th {\n",
       "        vertical-align: top;\n",
       "    }\n",
       "\n",
       "    .dataframe thead th {\n",
       "        text-align: right;\n",
       "    }\n",
       "</style>\n",
       "<table border=\"1\" class=\"dataframe\">\n",
       "  <thead>\n",
       "    <tr style=\"text-align: right;\">\n",
       "      <th></th>\n",
       "      <th>High</th>\n",
       "      <th>Low</th>\n",
       "      <th>Open</th>\n",
       "      <th>Close</th>\n",
       "      <th>Volume</th>\n",
       "      <th>Adj Close</th>\n",
       "    </tr>\n",
       "    <tr>\n",
       "      <th>Date</th>\n",
       "      <th></th>\n",
       "      <th></th>\n",
       "      <th></th>\n",
       "      <th></th>\n",
       "      <th></th>\n",
       "      <th></th>\n",
       "    </tr>\n",
       "  </thead>\n",
       "  <tbody>\n",
       "    <tr>\n",
       "      <th>2019-10-09</th>\n",
       "      <td>58.299999</td>\n",
       "      <td>57.599998</td>\n",
       "      <td>57.700001</td>\n",
       "      <td>58.099998</td>\n",
       "      <td>37955195.0</td>\n",
       "      <td>58.000000</td>\n",
       "    </tr>\n",
       "    <tr>\n",
       "      <th>2019-10-10</th>\n",
       "      <td>57.900002</td>\n",
       "      <td>56.799999</td>\n",
       "      <td>57.099998</td>\n",
       "      <td>57.450001</td>\n",
       "      <td>25985179.0</td>\n",
       "      <td>57.450001</td>\n",
       "    </tr>\n",
       "    <tr>\n",
       "      <th>2019-10-11</th>\n",
       "      <td>59.150002</td>\n",
       "      <td>57.799999</td>\n",
       "      <td>58.000000</td>\n",
       "      <td>58.950001</td>\n",
       "      <td>31732093.0</td>\n",
       "      <td>58.950001</td>\n",
       "    </tr>\n",
       "    <tr>\n",
       "      <th>2019-10-14</th>\n",
       "      <td>60.349998</td>\n",
       "      <td>59.750000</td>\n",
       "      <td>59.849998</td>\n",
       "      <td>59.950001</td>\n",
       "      <td>37686670.0</td>\n",
       "      <td>59.950001</td>\n",
       "    </tr>\n",
       "    <tr>\n",
       "      <th>2019-10-15</th>\n",
       "      <td>60.150002</td>\n",
       "      <td>59.549999</td>\n",
       "      <td>60.000000</td>\n",
       "      <td>59.950001</td>\n",
       "      <td>17282269.0</td>\n",
       "      <td>59.950001</td>\n",
       "    </tr>\n",
       "  </tbody>\n",
       "</table>\n",
       "</div>"
      ],
      "text/plain": [
       "                 High        Low       Open      Close      Volume  Adj Close\n",
       "Date                                                                         \n",
       "2019-10-09  58.299999  57.599998  57.700001  58.099998  37955195.0  58.000000\n",
       "2019-10-10  57.900002  56.799999  57.099998  57.450001  25985179.0  57.450001\n",
       "2019-10-11  59.150002  57.799999  58.000000  58.950001  31732093.0  58.950001\n",
       "2019-10-14  60.349998  59.750000  59.849998  59.950001  37686670.0  59.950001\n",
       "2019-10-15  60.150002  59.549999  60.000000  59.950001  17282269.0  59.950001"
      ]
     },
     "execution_count": 4,
     "metadata": {},
     "output_type": "execute_result"
    }
   ],
   "source": [
    "hsbc.tail()"
   ]
  },
  {
   "cell_type": "markdown",
   "metadata": {},
   "source": [
    "## FRED"
   ]
  },
  {
   "cell_type": "code",
   "execution_count": 5,
   "metadata": {},
   "outputs": [],
   "source": [
    "import pandas_datareader.data as web\n",
    "import datetime\n",
    "\n",
    "start = datetime.datetime(2010, 1, 1)\n",
    "end   = datetime.datetime(2019, 10, 1)\n",
    "\n",
    "gdp   = web.DataReader(\"GDP\", data_source=\"fred\", start=start, end=end)"
   ]
  },
  {
   "cell_type": "code",
   "execution_count": 6,
   "metadata": {},
   "outputs": [
    {
     "data": {
      "text/html": [
       "<div>\n",
       "<style scoped>\n",
       "    .dataframe tbody tr th:only-of-type {\n",
       "        vertical-align: middle;\n",
       "    }\n",
       "\n",
       "    .dataframe tbody tr th {\n",
       "        vertical-align: top;\n",
       "    }\n",
       "\n",
       "    .dataframe thead th {\n",
       "        text-align: right;\n",
       "    }\n",
       "</style>\n",
       "<table border=\"1\" class=\"dataframe\">\n",
       "  <thead>\n",
       "    <tr style=\"text-align: right;\">\n",
       "      <th></th>\n",
       "      <th>GDP</th>\n",
       "    </tr>\n",
       "    <tr>\n",
       "      <th>DATE</th>\n",
       "      <th></th>\n",
       "    </tr>\n",
       "  </thead>\n",
       "  <tbody>\n",
       "    <tr>\n",
       "      <th>2010-01-01</th>\n",
       "      <td>14721.350</td>\n",
       "    </tr>\n",
       "    <tr>\n",
       "      <th>2010-04-01</th>\n",
       "      <td>14926.098</td>\n",
       "    </tr>\n",
       "    <tr>\n",
       "      <th>2010-07-01</th>\n",
       "      <td>15079.917</td>\n",
       "    </tr>\n",
       "    <tr>\n",
       "      <th>2010-10-01</th>\n",
       "      <td>15240.843</td>\n",
       "    </tr>\n",
       "    <tr>\n",
       "      <th>2011-01-01</th>\n",
       "      <td>15285.828</td>\n",
       "    </tr>\n",
       "  </tbody>\n",
       "</table>\n",
       "</div>"
      ],
      "text/plain": [
       "                  GDP\n",
       "DATE                 \n",
       "2010-01-01  14721.350\n",
       "2010-04-01  14926.098\n",
       "2010-07-01  15079.917\n",
       "2010-10-01  15240.843\n",
       "2011-01-01  15285.828"
      ]
     },
     "execution_count": 6,
     "metadata": {},
     "output_type": "execute_result"
    }
   ],
   "source": [
    "gdp.head()"
   ]
  },
  {
   "cell_type": "code",
   "execution_count": 7,
   "metadata": {},
   "outputs": [
    {
     "data": {
      "text/html": [
       "<div>\n",
       "<style scoped>\n",
       "    .dataframe tbody tr th:only-of-type {\n",
       "        vertical-align: middle;\n",
       "    }\n",
       "\n",
       "    .dataframe tbody tr th {\n",
       "        vertical-align: top;\n",
       "    }\n",
       "\n",
       "    .dataframe thead th {\n",
       "        text-align: right;\n",
       "    }\n",
       "</style>\n",
       "<table border=\"1\" class=\"dataframe\">\n",
       "  <thead>\n",
       "    <tr style=\"text-align: right;\">\n",
       "      <th></th>\n",
       "      <th>GDP</th>\n",
       "    </tr>\n",
       "    <tr>\n",
       "      <th>DATE</th>\n",
       "      <th></th>\n",
       "    </tr>\n",
       "  </thead>\n",
       "  <tbody>\n",
       "    <tr>\n",
       "      <th>2018-04-01</th>\n",
       "      <td>20510.177</td>\n",
       "    </tr>\n",
       "    <tr>\n",
       "      <th>2018-07-01</th>\n",
       "      <td>20749.752</td>\n",
       "    </tr>\n",
       "    <tr>\n",
       "      <th>2018-10-01</th>\n",
       "      <td>20897.804</td>\n",
       "    </tr>\n",
       "    <tr>\n",
       "      <th>2019-01-01</th>\n",
       "      <td>21098.827</td>\n",
       "    </tr>\n",
       "    <tr>\n",
       "      <th>2019-04-01</th>\n",
       "      <td>21340.267</td>\n",
       "    </tr>\n",
       "  </tbody>\n",
       "</table>\n",
       "</div>"
      ],
      "text/plain": [
       "                  GDP\n",
       "DATE                 \n",
       "2018-04-01  20510.177\n",
       "2018-07-01  20749.752\n",
       "2018-10-01  20897.804\n",
       "2019-01-01  21098.827\n",
       "2019-04-01  21340.267"
      ]
     },
     "execution_count": 7,
     "metadata": {},
     "output_type": "execute_result"
    }
   ],
   "source": [
    "gdp.tail()"
   ]
  },
  {
   "cell_type": "markdown",
   "metadata": {},
   "source": [
    "# Activity 1\n",
    "> Download Google's stock price from Yahoo from 2006-01-01 to 2019-10-14.   \n",
    "> The Google stock code is \"GOOG\".  \n",
    "> Plot its closing price.  "
   ]
  },
  {
   "cell_type": "code",
   "execution_count": 5,
   "metadata": {},
   "outputs": [
    {
     "data": {
      "text/html": [
       "<div>\n",
       "<style scoped>\n",
       "    .dataframe tbody tr th:only-of-type {\n",
       "        vertical-align: middle;\n",
       "    }\n",
       "\n",
       "    .dataframe tbody tr th {\n",
       "        vertical-align: top;\n",
       "    }\n",
       "\n",
       "    .dataframe thead th {\n",
       "        text-align: right;\n",
       "    }\n",
       "</style>\n",
       "<table border=\"1\" class=\"dataframe\">\n",
       "  <thead>\n",
       "    <tr style=\"text-align: right;\">\n",
       "      <th></th>\n",
       "      <th>High</th>\n",
       "      <th>Low</th>\n",
       "      <th>Open</th>\n",
       "      <th>Close</th>\n",
       "      <th>Volume</th>\n",
       "      <th>Adj Close</th>\n",
       "    </tr>\n",
       "    <tr>\n",
       "      <th>Date</th>\n",
       "      <th></th>\n",
       "      <th></th>\n",
       "      <th></th>\n",
       "      <th></th>\n",
       "      <th></th>\n",
       "      <th></th>\n",
       "    </tr>\n",
       "  </thead>\n",
       "  <tbody>\n",
       "    <tr>\n",
       "      <th>2019-10-08</th>\n",
       "      <td>1206.079956</td>\n",
       "      <td>1189.010010</td>\n",
       "      <td>1197.589966</td>\n",
       "      <td>1189.130005</td>\n",
       "      <td>1039300.0</td>\n",
       "      <td>1189.130005</td>\n",
       "    </tr>\n",
       "    <tr>\n",
       "      <th>2019-10-09</th>\n",
       "      <td>1208.349976</td>\n",
       "      <td>1197.630005</td>\n",
       "      <td>1199.349976</td>\n",
       "      <td>1202.310059</td>\n",
       "      <td>867700.0</td>\n",
       "      <td>1202.310059</td>\n",
       "    </tr>\n",
       "    <tr>\n",
       "      <th>2019-10-10</th>\n",
       "      <td>1215.000000</td>\n",
       "      <td>1197.339966</td>\n",
       "      <td>1198.579956</td>\n",
       "      <td>1208.670044</td>\n",
       "      <td>846600.0</td>\n",
       "      <td>1208.670044</td>\n",
       "    </tr>\n",
       "    <tr>\n",
       "      <th>2019-10-11</th>\n",
       "      <td>1228.390015</td>\n",
       "      <td>1213.739990</td>\n",
       "      <td>1222.209961</td>\n",
       "      <td>1215.449951</td>\n",
       "      <td>1272700.0</td>\n",
       "      <td>1215.449951</td>\n",
       "    </tr>\n",
       "    <tr>\n",
       "      <th>2019-10-14</th>\n",
       "      <td>1226.329956</td>\n",
       "      <td>1211.760010</td>\n",
       "      <td>1212.339966</td>\n",
       "      <td>1217.140015</td>\n",
       "      <td>867500.0</td>\n",
       "      <td>1217.140015</td>\n",
       "    </tr>\n",
       "  </tbody>\n",
       "</table>\n",
       "</div>"
      ],
      "text/plain": [
       "                   High          Low         Open        Close     Volume  \\\n",
       "Date                                                                        \n",
       "2019-10-08  1206.079956  1189.010010  1197.589966  1189.130005  1039300.0   \n",
       "2019-10-09  1208.349976  1197.630005  1199.349976  1202.310059   867700.0   \n",
       "2019-10-10  1215.000000  1197.339966  1198.579956  1208.670044   846600.0   \n",
       "2019-10-11  1228.390015  1213.739990  1222.209961  1215.449951  1272700.0   \n",
       "2019-10-14  1226.329956  1211.760010  1212.339966  1217.140015   867500.0   \n",
       "\n",
       "              Adj Close  \n",
       "Date                     \n",
       "2019-10-08  1189.130005  \n",
       "2019-10-09  1202.310059  \n",
       "2019-10-10  1208.670044  \n",
       "2019-10-11  1215.449951  \n",
       "2019-10-14  1217.140015  "
      ]
     },
     "execution_count": 5,
     "metadata": {},
     "output_type": "execute_result"
    }
   ],
   "source": [
    "from pandas_datareader import data\n",
    "goog = data.DataReader('GOOG', start='2006-01-01', end='2019-10-14',data_source='yahoo')\n",
    "goog.tail()"
   ]
  },
  {
   "cell_type": "code",
   "execution_count": 6,
   "metadata": {},
   "outputs": [
    {
     "data": {
      "text/plain": [
       "<AxesSubplot:xlabel='Date'>"
      ]
     },
     "execution_count": 6,
     "metadata": {},
     "output_type": "execute_result"
    },
    {
     "data": {
      "image/png": "[encoded data removed]",
      "text/plain": [
       "<Figure size 864x216 with 1 Axes>"
      ]
     },
     "metadata": {
      "needs_background": "light"
     },
     "output_type": "display_data"
    }
   ],
   "source": [
    "import matplotlib.pyplot as plt\n",
    "%matplotlib inline\n",
    "\n",
    "data = goog['Close']\n",
    "data.plot(color='red',style='-',figsize=(12,3))"
   ]
  }
 ],
 "metadata": {
  "kernelspec": {
   "display_name": "Python 3",
   "language": "python",
   "name": "python3"
  },
  "language_info": {
   "codemirror_mode": {
    "name": "ipython",
    "version": 3
   },
   "file_extension": ".py",
   "mimetype": "text/x-python",
   "name": "python",
   "nbconvert_exporter": "python",
   "pygments_lexer": "ipython3",
   "version": "3.7.10"
  }
 },
 "nbformat": 4,
 "nbformat_minor": 2
}
